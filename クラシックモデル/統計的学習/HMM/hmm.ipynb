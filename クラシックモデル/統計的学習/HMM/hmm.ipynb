{
 "cells": [
  {
   "cell_type": "code",
   "execution_count": null,
   "metadata": {},
   "outputs": [],
   "source": [
    "source: https://www.kabuku.co.jp/developers/hmm\n"
   ]
  },
  {
   "cell_type": "code",
   "execution_count": null,
   "metadata": {},
   "outputs": [],
   "source": [
    "import numpy as np\n",
    "\n",
    "class HMM:\n",
    "    def __init__(self, states, observations, initial_prob, transition_prob, emission_prob):\n",
    "        self.states = states\n",
    "        self.observations = observations\n",
    "        self.initial_prob = initial_prob\n",
    "        self.transition_prob = transition_prob\n",
    "        self.emission_prob = emission_prob\n",
    "\n",
    "    def generate_sequence(self, length):\n",
    "        sequence = []\n",
    "        current_state = np.random.choice(len(self.states), p=self.initial_prob)\n",
    "        for _ in range(length):\n",
    "            observation = np.random.choice(len(self.observations), p=self.emission_prob[current_state])\n",
    "            sequence.append(self.observations[observation])\n",
    "            current_state = np.random.choice(len(self.states), p=self.transition_prob[current_state])\n",
    "        return sequence\n",
    "\n",
    "# Example\n",
    "states = ['Sunny', 'Rainy']\n",
    "observations = ['Dry', 'Damp', 'Wet']\n",
    "initial_prob = np.array([0.8, 0.2])\n",
    "transition_prob = np.array([[0.7, 0.3], [0.4, 0.6]])\n",
    "emission_prob = np.array([[0.1, 0.4, 0.5], [0.6, 0.3, 0.1]])\n",
    "\n",
    "hmm = HMM(states, observations, initial_prob, transition_prob, emission_prob)\n",
    "generated_sequence = hmm.generate_sequence(10)\n",
    "print(\"Generated Sequence:\", generated_sequence)\n"
   ]
  }
 ],
 "metadata": {
  "language_info": {
   "name": "python"
  }
 },
 "nbformat": 4,
 "nbformat_minor": 2
}
