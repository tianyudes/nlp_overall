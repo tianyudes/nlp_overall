{
 "cells": [
  {
   "cell_type": "markdown",
   "metadata": {},
   "source": [
    "SVM数学原理\n",
    "\n",
    "目的関数と最適化\n",
    "![Mathematical principle](./image//principle1.png)\n",
    "\n",
    "$$\n",
    "(\\mathbf{w}) は重みベクトル。\n",
    "(b) はバイアス。\n",
    "(C) は正則化パラメータ。\n",
    "y_i はラベル（+1または-1）。\n",
    "\\mathbf{x}_i は入力特徴ベクトル。\n",
    "$$\n",
    "\n",
    "パラメーターの更新\n",
    "![Mathematical principle](./image//principle2.png)\n",
    "\n",
    "\n",
    "\n",
    "\n"
   ]
  },
  {
   "cell_type": "code",
   "execution_count": 1,
   "metadata": {},
   "outputs": [],
   "source": [
    "import numpy as np\n",
    "class SVM:\n",
    "    def __init__(self, learning_rate=0.01, epochs=1000):\n",
    "        self.learning_rate = learning_rate\n",
    "        self.epochs = epochs\n",
    "        self.weights = None\n",
    "        self.bias = None\n",
    "\n",
    "    def fit(self, X, y):\n",
    "        # 初期化\n",
    "        self.weights = np.zeros(X.shape[1])\n",
    "        self.bias = 0\n",
    "\n",
    "        # 勾配降下法による最適化\n",
    "        for epoch in range(self.epochs):\n",
    "            for i, x in enumerate(X):\n",
    "                condition = y[i] * (np.dot(x, self.weights) + self.bias) >= 1\n",
    "                if condition:\n",
    "                    self.weights -= self.learning_rate * (2 * 1 / self.epochs * self.weights) \n",
    "                else:\n",
    "                    self.weights -= self.learning_rate * (2 * 1 / self.epochs * self.weights - np.dot(x, y[i]))\n",
    "                    self.bias -= self.learning_rate * y[i]\n",
    "\n",
    "    def predict(self, X):\n",
    "        return np.sign(np.dot(X, self.weights) + self.bias)   \n",
    "    \n",
    "    \n",
    "\n",
    "        \n",
    "    "
   ]
  },
  {
   "cell_type": "code",
   "execution_count": 2,
   "metadata": {},
   "outputs": [
    {
     "name": "stdout",
     "output_type": "stream",
     "text": [
      "Predictions: [-1. -1.]\n"
     ]
    }
   ],
   "source": [
    "if __name__ == \"__main__\":\n",
    "\n",
    "    X_train = np.array([[1, 2], [2, 3], [3, 4], [4, 5]])\n",
    "    y_train = np.array([1, 1, -1, -1])\n",
    "\n",
    "    svm_model = SVM()\n",
    "    svm_model.fit(X_train, y_train)\n",
    "\n",
    "    X_test = np.array([[5, 6], [1, 2]])\n",
    "    predictions = svm_model.predict(X_test)\n",
    "\n",
    "    print(\"Predictions:\", predictions)"
   ]
  }
 ],
 "metadata": {
  "kernelspec": {
   "display_name": "base",
   "language": "python",
   "name": "python3"
  },
  "language_info": {
   "codemirror_mode": {
    "name": "ipython",
    "version": 3
   },
   "file_extension": ".py",
   "mimetype": "text/x-python",
   "name": "python",
   "nbconvert_exporter": "python",
   "pygments_lexer": "ipython3",
   "version": "3.11.4"
  }
 },
 "nbformat": 4,
 "nbformat_minor": 2
}
